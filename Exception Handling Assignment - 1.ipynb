{
 "cells": [
  {
   "cell_type": "code",
   "execution_count": null,
   "id": "f967cece-7135-49f2-a9a4-52ecd44ff63d",
   "metadata": {},
   "outputs": [],
   "source": [
    "Q1. What is an Exception in python? Write the difference between exceptions and syntax errors.\n",
    "\n",
    "Ans : An exception is an event that occurs during the execution of a program that disrupts the normal flow of the program's instructions. \n",
    "      When an exceptional situation arises, an exception object is raised, which can be caught and handled by appropriate code.\n",
    "    \n",
    "    - Exceptions are a way of handling errors and other exceptional situations in a more controlled and structured manner. They allow you to\n",
    "       write code that gracefully handles unexpected situations and provides appropriate error messages or takes corrective actions.\n",
    "        \n",
    "    - On the other hand, syntax errors are a type of error that occur when the Python interpreter encounters invalid code that violates the\n",
    "       rules of the Python language syntax. Syntax errors typically prevent the code from being executed at all. Examples of syntax errors \n",
    "        include misspelling a keyword, missing a closing parenthesis, or using incorrect indentation.\n",
    "        \n",
    "    Q: Write the difference between exceptions and syntax errors.\n",
    "    \n",
    "    1. Occurrence: Exceptions occur during the execution of a program when a specific exceptional situation arises. Syntax errors, on the\n",
    "        other hand, occur before the execution of the program when the code violates the syntax rules of the Python language.\n",
    "        \n",
    "    2. Handling: Exceptions can be caught and handled using exception handling mechanisms like try-except blocks. This allows you to gracefully\n",
    "       handle exceptional situations and take appropriate actions. Syntax errors cannot be caught and handled in the same way because they prevent\n",
    "        the code from being executed at all. They need to be fixed by correcting the code.\n",
    "        \n",
    "    3. Impact: Exceptions disrupt the normal flow of the program but can be handled to prevent the program from terminating abruptly. Syntax errors,\n",
    "       on the other hand, prevent the program from being executed altogether until the errors are fixed."
   ]
  },
  {
   "cell_type": "code",
   "execution_count": null,
   "id": "ff294479-3552-4511-b591-173c3fb16cd7",
   "metadata": {},
   "outputs": [],
   "source": [
    "Q2. What happens when an exception is not handled? Explain with an example  \n",
    "\n",
    "Ans: When an exception is not handled, it means that there is no code to deal with the error or exception that occurred. \n",
    "     Instead of being resolved, the exception causes the program to stop running and displays an error message.\n"
   ]
  },
  {
   "cell_type": "code",
   "execution_count": 1,
   "id": "bf6041c0-6b39-4018-9f02-8ca149e823f3",
   "metadata": {},
   "outputs": [
    {
     "ename": "ZeroDivisionError",
     "evalue": "division by zero",
     "output_type": "error",
     "traceback": [
      "\u001b[0;31m---------------------------------------------------------------------------\u001b[0m",
      "\u001b[0;31mZeroDivisionError\u001b[0m                         Traceback (most recent call last)",
      "Cell \u001b[0;32mIn[1], line 7\u001b[0m\n\u001b[1;32m      4\u001b[0m     result \u001b[38;5;241m=\u001b[39m a\u001b[38;5;241m/\u001b[39mb\n\u001b[1;32m      5\u001b[0m     \u001b[38;5;28;01mreturn\u001b[39;00m result\n\u001b[0;32m----> 7\u001b[0m result \u001b[38;5;241m=\u001b[39m \u001b[43mdivide_number\u001b[49m\u001b[43m(\u001b[49m\u001b[38;5;241;43m10\u001b[39;49m\u001b[43m,\u001b[49m\u001b[38;5;241;43m0\u001b[39;49m\u001b[43m)\u001b[49m\n\u001b[1;32m      8\u001b[0m \u001b[38;5;28mprint\u001b[39m(\u001b[38;5;124m\"\u001b[39m\u001b[38;5;124mthis result is :\u001b[39m\u001b[38;5;124m\"\u001b[39m ,result)\n",
      "Cell \u001b[0;32mIn[1], line 4\u001b[0m, in \u001b[0;36mdivide_number\u001b[0;34m(a, b)\u001b[0m\n\u001b[1;32m      3\u001b[0m \u001b[38;5;28;01mdef\u001b[39;00m \u001b[38;5;21mdivide_number\u001b[39m(a,b):\n\u001b[0;32m----> 4\u001b[0m     result \u001b[38;5;241m=\u001b[39m \u001b[43ma\u001b[49m\u001b[38;5;241;43m/\u001b[39;49m\u001b[43mb\u001b[49m\n\u001b[1;32m      5\u001b[0m     \u001b[38;5;28;01mreturn\u001b[39;00m result\n",
      "\u001b[0;31mZeroDivisionError\u001b[0m: division by zero"
     ]
    }
   ],
   "source": [
    "# Ex:\n",
    "\n",
    "def divide_number(a,b):\n",
    "    result = a/b\n",
    "    return result\n",
    "\n",
    "result = divide_number(10,0)\n",
    "print(\"this result is :\" ,result)"
   ]
  },
  {
   "cell_type": "code",
   "execution_count": 3,
   "id": "ab14801a-42d1-4552-9b1d-213251eb1baf",
   "metadata": {},
   "outputs": [
    {
     "name": "stdout",
     "output_type": "stream",
     "text": [
      "Error cannot divide by zero division by zero\n"
     ]
    }
   ],
   "source": [
    "def divide_number(a,b):\n",
    "    result = a/b\n",
    "    return result\n",
    "\n",
    "try :\n",
    "    \n",
    "    result = divide_number(10,0)\n",
    "    print(\"this result is :\" ,result)\n",
    "\n",
    "except ZeroDivisionError as e:\n",
    "    print(\"Error cannot divide by zero\" , e)\n",
    "    \n"
   ]
  },
  {
   "cell_type": "code",
   "execution_count": null,
   "id": "4b86c4a6-ec69-45fd-b94f-e4d8838744f7",
   "metadata": {},
   "outputs": [],
   "source": [
    "Q3. Which python Statements are used to catch and handle exceptions ? Explain with an Example.\n",
    "\n",
    "Ans: The statements used to catch and handle exceptions are the try and except statements. The try block is used to enclose the code\n",
    "     that may raise an exception, while the except block is used to specify the actions to be taken if a particular exception occurs."
   ]
  },
  {
   "cell_type": "code",
   "execution_count": 4,
   "id": "2dee137b-ac16-4413-8671-2c9dda1286eb",
   "metadata": {},
   "outputs": [],
   "source": [
    "# Ex:\n",
    "import logging\n",
    "\n",
    "logging.basicConfig(filename= \"error.txt\" , level=logging.ERROR)\n",
    "\n",
    "try:\n",
    "    10 / 0 \n",
    "except ZeroDivisionError as e:\n",
    "    logging.error(\"i am trying to handle a Zero division error {}\".format(e))"
   ]
  },
  {
   "cell_type": "code",
   "execution_count": null,
   "id": "f209678c-d9ba-4e3b-8cc8-3df52ba95fd9",
   "metadata": {},
   "outputs": [],
   "source": [
    "Q4. Explain with an Example:\n",
    "    a. try and else\n",
    "    b. finally\n",
    "    c. raise\n",
    "    "
   ]
  },
  {
   "cell_type": "code",
   "execution_count": 3,
   "id": "fcf54cfe-63ee-4e04-99ac-b59d37059d19",
   "metadata": {},
   "outputs": [],
   "source": [
    "# Example using an try and else\n",
    "#the try and else blocks are used together to handle exceptions. The try block is used to enclose the code that might raise an exception,\n",
    "# and the else block is used to specify the code that should be executed if no exception occurs in the try block.\n",
    "\n",
    "import logging\n",
    "\n",
    "logging.basicConfig(filename=\"test.txt\" , level= logging.INFO)\n",
    "try :\n",
    "    f = open(\"test.txt\" , 'w')\n",
    "    f.write(\"My name is Saksham Pal\")\n",
    "    \n",
    "except Exception as e:\n",
    "    logging.info(\"this is my except block {} \".format(e))\n",
    "    \n",
    "else:\n",
    "    f.close()\n",
    "    logging.info(\"this will be executed once your try will execute without error \")\n",
    "\n"
   ]
  },
  {
   "cell_type": "code",
   "execution_count": 4,
   "id": "a3601fa1-d76c-4bd6-bba5-c85717a508aa",
   "metadata": {},
   "outputs": [
    {
     "name": "stdout",
     "output_type": "stream",
     "text": [
      "finally will execute itself in any situation\n"
     ]
    },
    {
     "ename": "FileNotFoundError",
     "evalue": "[Errno 2] No such file or directory: 'test2.txt'",
     "output_type": "error",
     "traceback": [
      "\u001b[0;31m---------------------------------------------------------------------------\u001b[0m",
      "\u001b[0;31mFileNotFoundError\u001b[0m                         Traceback (most recent call last)",
      "Cell \u001b[0;32mIn[4], line 4\u001b[0m\n\u001b[1;32m      1\u001b[0m \u001b[38;5;66;03m# Example using finally statement\u001b[39;00m\n\u001b[1;32m      3\u001b[0m \u001b[38;5;28;01mtry\u001b[39;00m :\n\u001b[0;32m----> 4\u001b[0m     f \u001b[38;5;241m=\u001b[39m \u001b[38;5;28;43mopen\u001b[39;49m\u001b[43m(\u001b[49m\u001b[38;5;124;43m\"\u001b[39;49m\u001b[38;5;124;43mtest2.txt\u001b[39;49m\u001b[38;5;124;43m\"\u001b[39;49m\u001b[43m \u001b[49m\u001b[43m,\u001b[49m\u001b[43m \u001b[49m\u001b[38;5;124;43m'\u001b[39;49m\u001b[38;5;124;43mr\u001b[39;49m\u001b[38;5;124;43m'\u001b[39;49m\u001b[43m)\u001b[49m\n\u001b[1;32m      5\u001b[0m     f\u001b[38;5;241m.\u001b[39mwrite(\u001b[38;5;124m\"\u001b[39m\u001b[38;5;124mwrite something\u001b[39m\u001b[38;5;124m\"\u001b[39m)\n\u001b[1;32m      7\u001b[0m \u001b[38;5;28;01mfinally\u001b[39;00m :\n",
      "File \u001b[0;32m/opt/conda/lib/python3.10/site-packages/IPython/core/interactiveshell.py:282\u001b[0m, in \u001b[0;36m_modified_open\u001b[0;34m(file, *args, **kwargs)\u001b[0m\n\u001b[1;32m    275\u001b[0m \u001b[38;5;28;01mif\u001b[39;00m file \u001b[38;5;129;01min\u001b[39;00m {\u001b[38;5;241m0\u001b[39m, \u001b[38;5;241m1\u001b[39m, \u001b[38;5;241m2\u001b[39m}:\n\u001b[1;32m    276\u001b[0m     \u001b[38;5;28;01mraise\u001b[39;00m \u001b[38;5;167;01mValueError\u001b[39;00m(\n\u001b[1;32m    277\u001b[0m         \u001b[38;5;124mf\u001b[39m\u001b[38;5;124m\"\u001b[39m\u001b[38;5;124mIPython won\u001b[39m\u001b[38;5;124m'\u001b[39m\u001b[38;5;124mt let you open fd=\u001b[39m\u001b[38;5;132;01m{\u001b[39;00mfile\u001b[38;5;132;01m}\u001b[39;00m\u001b[38;5;124m by default \u001b[39m\u001b[38;5;124m\"\u001b[39m\n\u001b[1;32m    278\u001b[0m         \u001b[38;5;124m\"\u001b[39m\u001b[38;5;124mas it is likely to crash IPython. If you know what you are doing, \u001b[39m\u001b[38;5;124m\"\u001b[39m\n\u001b[1;32m    279\u001b[0m         \u001b[38;5;124m\"\u001b[39m\u001b[38;5;124myou can use builtins\u001b[39m\u001b[38;5;124m'\u001b[39m\u001b[38;5;124m open.\u001b[39m\u001b[38;5;124m\"\u001b[39m\n\u001b[1;32m    280\u001b[0m     )\n\u001b[0;32m--> 282\u001b[0m \u001b[38;5;28;01mreturn\u001b[39;00m \u001b[43mio_open\u001b[49m\u001b[43m(\u001b[49m\u001b[43mfile\u001b[49m\u001b[43m,\u001b[49m\u001b[43m \u001b[49m\u001b[38;5;241;43m*\u001b[39;49m\u001b[43margs\u001b[49m\u001b[43m,\u001b[49m\u001b[43m \u001b[49m\u001b[38;5;241;43m*\u001b[39;49m\u001b[38;5;241;43m*\u001b[39;49m\u001b[43mkwargs\u001b[49m\u001b[43m)\u001b[49m\n",
      "\u001b[0;31mFileNotFoundError\u001b[0m: [Errno 2] No such file or directory: 'test2.txt'"
     ]
    }
   ],
   "source": [
    "# Example using finally statement\n",
    "\n",
    "#The finally block is used to specify a block of code that should be executed regardless of whether an exception occurs or not.\n",
    "# It ensures that the code inside the finally block is always executed, even if an exception is raised and not caught.\n",
    "\n",
    "try :\n",
    "    f = open(\"test2.txt\" , 'r')\n",
    "    f.write(\"write something\")\n",
    "    \n",
    "finally :\n",
    "    print(\"finally will execute itself in any situation\")\n",
    "    \n",
    "    \n",
    "\n"
   ]
  },
  {
   "cell_type": "code",
   "execution_count": 5,
   "id": "2d7814e3-555e-40cd-8403-e73dba859e30",
   "metadata": {},
   "outputs": [
    {
     "name": "stdout",
     "output_type": "stream",
     "text": [
      "Cannot calculate square root of a negative number\n"
     ]
    }
   ],
   "source": [
    "# using raise satatement\n",
    "# the raise statement is used to explicitly raise an exception. It allows you to create and raise your own\n",
    "# exceptions or propagate built-in exceptions with additional information.\n",
    "\n",
    "#Ex:\n",
    "\n",
    "def calculate_square_root(num):\n",
    "    if num < 0:\n",
    "        raise ValueError(\"Cannot calculate square root of a negative number\")\n",
    "    else:\n",
    "        return num ** 0.5\n",
    "\n",
    "try:\n",
    "    result = calculate_square_root(-4)\n",
    "except ValueError as err:\n",
    "    print(err)\n",
    "\n",
    "\n",
    "\n"
   ]
  },
  {
   "cell_type": "code",
   "execution_count": null,
   "id": "04f5cc48-7742-4eaa-8eeb-82b83386dcb4",
   "metadata": {},
   "outputs": [],
   "source": [
    "Q5.What are Custom Exceptions in python? why do we need Custom Exceptions? Explain with an example. \n",
    "\n",
    "Ans :  custom exceptions are user-defined exceptions that allow you to create your own exception classes to handle specific errors or\n",
    "       exceptional situations in your code. Custom exceptions inherit from the base Exception class or any of its subclasses, and they \n",
    "       can be raised and caught like built-in exceptions.\n",
    "        \n",
    "Q. why do we need Custom Exceptions?\n",
    "\n",
    "   1 .Specific Error Handling: Custom exceptions allow you to handle specific errors or exceptional situations in a more granular and \n",
    "      meaningful way. By defining your own exception classes, you can provide detailed error messages and define specialized behavior\n",
    "        for different types of exceptions.\n",
    "        \n",
    "   2. Code Readability: Custom exceptions can improve code readability by making it clear and explicit what kind of error or exceptional\n",
    "      situation is occurring. By using meaningful exception names and providing specific error messages, it becomes easier for other developers\n",
    "      to understand and maintain your code.\n",
    "        \n",
    "   3. Modularity and Reusability: Custom exceptions enhance modularity and reusability in your code. You can define custom exception classes \n",
    "      in a separate module or file, making them reusable across multiple projects or modules. This allows you to have consistent error handling\n",
    "      and enables easier maintenance and debugging.\n",
    "\n",
    "\n",
    "   "
   ]
  },
  {
   "cell_type": "code",
   "execution_count": 9,
   "id": "5793f7fa-98c7-402d-8090-a80ccf308813",
   "metadata": {},
   "outputs": [
    {
     "name": "stdout",
     "output_type": "stream",
     "text": [
      "Robot stopped: Battery too low to contiue. current battery level : 15%\n"
     ]
    }
   ],
   "source": [
    "#Ex:\n",
    "\n",
    "class Battery_Low_Error(Exception) :\n",
    "    def __init__(self , current_battery) :\n",
    "        self.current_battery = current_battery\n",
    "        super().__init__(f\"Robot stopped: Battery too low to contiue. current battery level : {current_battery}%\")\n",
    "            \n",
    "def control_robot():\n",
    "        battery_level = 15\n",
    "        \n",
    "        if battery_level < 20:\n",
    "            raise Battery_Low_Error(battery_level)\n",
    "        else:\n",
    "            print(\"Robot is performing tasks\")\n",
    "            \n",
    "try:   \n",
    "    control_robot()\n",
    "except Battery_Low_Error as error:\n",
    "        print(error)\n",
    "        "
   ]
  },
  {
   "cell_type": "code",
   "execution_count": null,
   "id": "43c46a3a-fc51-49b1-8520-397ef1c561c1",
   "metadata": {},
   "outputs": [],
   "source": [
    "Q6. Create a custom exception class. Use this class to handle an exception."
   ]
  },
  {
   "cell_type": "code",
   "execution_count": 23,
   "id": "2c12917f-1750-46cc-869d-2f7e0cea1c70",
   "metadata": {},
   "outputs": [
    {
     "name": "stdout",
     "output_type": "stream",
     "text": [
      "Custom Exception Cannot divide by zero.\n"
     ]
    }
   ],
   "source": [
    "\n",
    "class CustomException(Exception):\n",
    "    def __init__(self , mesg):\n",
    "        self.mesg = mesg\n",
    "                \n",
    "        \n",
    "def divide_number(n1,n2):\n",
    "    if n2 == 0 :\n",
    "        raise CustomException(\"Cannot divide by zero.\")\n",
    "        \n",
    "    else:\n",
    "        return n1 / n2\n",
    "    \n",
    "try :\n",
    "    result = divide_number(10,0)\n",
    "    print(\"Result:\" , result)\n",
    "    \n",
    "except CustomException as e:\n",
    "    print(\"Custom Exception\" , e)    \n"
   ]
  },
  {
   "cell_type": "code",
   "execution_count": null,
   "id": "8c517b26-2a57-4bd1-aed3-3fb7c37c22cd",
   "metadata": {},
   "outputs": [],
   "source": []
  }
 ],
 "metadata": {
  "kernelspec": {
   "display_name": "Python 3 (ipykernel)",
   "language": "python",
   "name": "python3"
  },
  "language_info": {
   "codemirror_mode": {
    "name": "ipython",
    "version": 3
   },
   "file_extension": ".py",
   "mimetype": "text/x-python",
   "name": "python",
   "nbconvert_exporter": "python",
   "pygments_lexer": "ipython3",
   "version": "3.10.8"
  }
 },
 "nbformat": 4,
 "nbformat_minor": 5
}
